{
 "cells": [
  {
   "cell_type": "markdown",
   "id": "fbcc710d-e239-4d0e-a730-47c9b6c3e939",
   "metadata": {},
   "source": [
    "Codes for making Figure 2a in the manuscript."
   ]
  },
  {
   "cell_type": "code",
   "execution_count": 1,
   "id": "cac16549-0c49-4a3d-a418-b7ac17865f05",
   "metadata": {},
   "outputs": [],
   "source": [
    "suppressMessages(library(dplyr))\n",
    "suppressMessages(library(ggplot2))\n",
    "suppressMessages(library(Signac))\n",
    "suppressMessages(library(GenomicRanges))\n",
    "suppressMessages(library(gridExtra))\n",
    "suppressMessages(library(ggplot2))\n",
    "suppressMessages(library(gridExtra))\n",
    "suppressMessages(library(grid))\n",
    "\n",
    "source('reproducibility_helper.R')"
   ]
  },
  {
   "cell_type": "code",
   "execution_count": 2,
   "id": "4e979b52-9f80-4868-8ff1-05e51c652bd8",
   "metadata": {},
   "outputs": [],
   "source": [
    "output_dir <- '/projects/chang/scGRN/analysis/real_data/output'\n",
    "fig_dir <- '/projects/chang/scGRN/analysis/manuscript/figures'"
   ]
  },
  {
   "cell_type": "code",
   "execution_count": 3,
   "id": "112527fb-3229-43d3-8a1a-26c1140a6d7f",
   "metadata": {},
   "outputs": [],
   "source": [
    "datasets <- c('PBMC_10k_nextgem', 'PBMC_10k_nextgem_X', 'PBMC_10k')\n",
    "\n",
    "res_list <- list()\n",
    "\n",
    "\n",
    "fn_suffix <- c('', '', '_n_bootstrap_5000')\n",
    "methods <- c('proposed', 'Signac', 'SCENT')\n",
    "names(fn_suffix) <- methods\n",
    "\n",
    "ct <- 'CD14 Mono'"
   ]
  },
  {
   "cell_type": "code",
   "execution_count": 4,
   "id": "12127104-9502-4799-b48a-b7c0bb36eed0",
   "metadata": {},
   "outputs": [],
   "source": [
    "p_cutoffs <- c(0.05,0.1,0.2)\n",
    "\n",
    "rep_sum_list <- list()\n",
    "#for(dpair in list(c(1,2),c(1,3))){\n",
    "    res_list <- list()\n",
    "    res_list[['proposed']] <- load_proposed(ct, datasets = datasets,\n",
    "                                       fn_suffix = fn_suffix['proposed'],\n",
    "                                           output_dir = output_dir) \n",
    "    res_list[['Signac']] <- load_Signac(ct, datasets = datasets,\n",
    "                                       fn_suffix = fn_suffix['Signac'],\n",
    "                                           output_dir = output_dir) \n",
    "    res_list[['SCENT']] <- load_SCENT(ct, \n",
    "                                  n_sets = 10,\n",
    "                                  datasets = datasets,\n",
    "                                  fn_suffix = fn_suffix['SCENT'],\n",
    "                                           output_dir = output_dir) \n",
    "\n",
    "    sum_list <- list()\n",
    "    for(nc in 1:length(p_cutoffs)){\n",
    "        comb_list <- list(c(1,2), c(1,3))\n",
    "        methods <- names(res_list)\n",
    "        pval_vec <- fc_vec <- power_d1 <- power_d2 <- overlap_counts <- sig_counts_1 <- sig_counts_2 <- n_overlap <- numeric()\n",
    "        fe_pval_vec <- fe_fc_vec <- fe_conf_l_vec <- fe_conf_u_vec <- numeric()\n",
    "        results_list <- list()\n",
    "        t <- 1\n",
    "        for(i in 1:length(comb_list)){\n",
    "            for(method in methods){\n",
    "                tmp <- get_overlap(res_list[[method]][comb_list[[i]]],\n",
    "                                   p_var = 'adj_pval', \n",
    "                                   p_cutoff = p_cutoffs[nc])\n",
    "                pval_vec <- c(pval_vec, tmp$log_p_val)\n",
    "                fc_vec <- c(fc_vec, tmp$fc)\n",
    "                power_d1 <- c(power_d1, tmp$counts[[2]][1]/tmp$counts[[3]])\n",
    "                power_d2 <- c(power_d2, tmp$counts[[2]][2]/tmp$counts[[3]])\n",
    "                overlap_counts <- c(overlap_counts, tmp$counts[[1]])\n",
    "                results_list[[t]] <- tmp\n",
    "\n",
    "                # fisher exact test\n",
    "                n_overlap_pairs <- results_list[[t]]$counts[[3]]\n",
    "                n_sig_one_dataset <- results_list[[t]]$counts[[2]]\n",
    "                n_sig_both <- results_list[[t]]$counts[[1]]\n",
    "\n",
    "                D <- n_sig_both\n",
    "                B <- n_sig_one_dataset[1] - D\n",
    "                C <- n_sig_one_dataset[2] - D\n",
    "                A <- n_overlap_pairs - (B + C + D)\n",
    "\n",
    "                tab <- matrix(c(A,B,C,D), nrow = 2)\n",
    "                fe_res <- fisher.test(tab, alternative = 'greater')\n",
    "\n",
    "                fe_pval_vec <- c(fe_pval_vec, fe_res$p.value)\n",
    "                fe_fc_vec <- c(fe_fc_vec, fe_res$estimate)\n",
    "                fe_conf_l_vec <- c(fe_conf_l_vec, fe_res$conf.int[1])\n",
    "                fe_conf_u_vec <- c(fe_conf_u_vec, fe_res$conf.int[2])\n",
    "\n",
    "                sig_counts_1 <- c(sig_counts_1, n_sig_one_dataset[1])\n",
    "                sig_counts_2 <- c(sig_counts_2, n_sig_one_dataset[2])\n",
    "                n_overlap <- c(n_overlap, n_overlap_pairs)\n",
    "                \n",
    "                t <- t + 1\n",
    "            }\n",
    "        }\n",
    "        sum_list[[nc]] <- data.frame(pval = -pval_vec, fc = fc_vec, power1 = power_d1, power2 = power_d2, repro_counts = overlap_counts,\n",
    "                                    fe_pval = fe_pval_vec, fe_or = fe_fc_vec, fe_conf_l = fe_conf_l_vec, fe_conf_u = fe_conf_u_vec,\n",
    "                                    sig_counts_1 = sig_counts_1, sig_counts_2 = sig_counts_2, n_overlap = n_overlap)\n",
    "    }\n",
    "    sum_df <- do.call(rbind, sum_list)\n",
    "    sum_df$method <- rep(methods, 6)\n",
    "    sum_df$p_cutoff <- rep(p_cutoffs, each = 6)\n",
    "    sum_df$method <- factor(sum_df$method, levels = methods, labels = methods)\n",
    "    sum_df$replicate <- rep(rep(c('technical', 'biological'), each = 3), 3)\n",
    "    #rep_sum_list[[ifelse(all(dpair == 1:2), 'technical', 'biological')]] <- sum_df\n",
    "#}"
   ]
  },
  {
   "cell_type": "code",
   "execution_count": 5,
   "id": "7ff97570-bb62-47d1-890a-8f15409bd089",
   "metadata": {},
   "outputs": [],
   "source": [
    "long_ct_sum_df <- sum_df\n",
    "long_ct_sum_df$method <- factor(long_ct_sum_df$method,\n",
    "                                levels = c('proposed', 'Signac', 'SCENT'),\n",
    "                                labels = c('scMultiMap', 'Signac', 'SCENT'))\n",
    "colnames(long_ct_sum_df)[colnames(long_ct_sum_df) == 'repro_counts'] <- 'counts1'"
   ]
  },
  {
   "cell_type": "code",
   "execution_count": 6,
   "id": "a7480b48-34b2-4fd0-9787-19907096056e",
   "metadata": {},
   "outputs": [],
   "source": [
    "# saveRDS(long_ct_sum_df, sprintf('%s/manuscript/PBMC/reproducibility.rds', output_dir))"
   ]
  },
  {
   "cell_type": "code",
   "execution_count": null,
   "id": "6047333b-a7ea-4727-817e-5814cdfb4fa5",
   "metadata": {},
   "outputs": [],
   "source": []
  },
  {
   "cell_type": "markdown",
   "id": "dae998a0-272f-4854-b86b-d6d5e35e2d4c",
   "metadata": {},
   "source": [
    "# Supplementary analysis for GBM"
   ]
  },
  {
   "cell_type": "code",
   "execution_count": 7,
   "id": "1652c843-2f8e-4b30-bc9a-a2f62002ebcf",
   "metadata": {},
   "outputs": [],
   "source": [
    "qu_cutoffs <- c(0.85,0.9,0.95)\n",
    "    sum_list <- list()\n",
    "    #for(nc in 1:length(p_cutoffs)){\n",
    "    for(nc in 1:length(qu_cutoffs)){\n",
    "        comb_list <- list(c(1,2), c(1,3))\n",
    "        methods <- names(res_list)\n",
    "        pval_vec <- fc_vec <- power_d1 <- power_d2 <- overlap_counts <- sig_counts_1 <- sig_counts_2 <- n_overlap <- numeric()\n",
    "        fe_pval_vec <- fe_fc_vec <- fe_conf_l_vec <- fe_conf_u_vec <- numeric()\n",
    "        results_list <- list()\n",
    "        t <- 1\n",
    "        for(i in 1:length(comb_list)){\n",
    "           # for(method in methods){\n",
    "            GBM_res <- load_GBM(ct, datasets = datasets[comb_list[[i]]], method_par = qu_cutoffs[nc],\n",
    "                                output_dir = output_dir)\n",
    "                tmp <- get_overlap(GBM_res,\n",
    "                                   p_var='pval', p_cutoff=0.05)\n",
    "                pval_vec <- c(pval_vec, tmp$log_p_val)\n",
    "                fc_vec <- c(fc_vec, tmp$fc)\n",
    "                power_d1 <- c(power_d1, tmp$counts[[2]][1]/tmp$counts[[3]])\n",
    "                power_d2 <- c(power_d2, tmp$counts[[2]][2]/tmp$counts[[3]])\n",
    "                overlap_counts <- c(overlap_counts, tmp$counts[[1]])\n",
    "                results_list[[t]] <- tmp\n",
    "\n",
    "                # fisher exact test\n",
    "                n_overlap_pairs <- results_list[[t]]$counts[[3]]\n",
    "                n_sig_one_dataset <- results_list[[t]]$counts[[2]]\n",
    "                n_sig_both <- results_list[[t]]$counts[[1]]\n",
    "\n",
    "                D <- n_sig_both\n",
    "                B <- n_sig_one_dataset[1] - D\n",
    "                C <- n_sig_one_dataset[2] - D\n",
    "                A <- n_overlap_pairs - (B + C + D)\n",
    "\n",
    "                tab <- matrix(c(A,B,C,D), nrow = 2)\n",
    "                fe_res <- fisher.test(tab, alternative = 'greater')\n",
    "\n",
    "                fe_pval_vec <- c(fe_pval_vec, fe_res$p.value)\n",
    "                fe_fc_vec <- c(fe_fc_vec, fe_res$estimate)\n",
    "                fe_conf_l_vec <- c(fe_conf_l_vec, fe_res$conf.int[1])\n",
    "                fe_conf_u_vec <- c(fe_conf_u_vec, fe_res$conf.int[2])\n",
    "\n",
    "                sig_counts_1 <- c(sig_counts_1, n_sig_one_dataset[1])\n",
    "                sig_counts_2 <- c(sig_counts_2, n_sig_one_dataset[2])\n",
    "                n_overlap <- c(n_overlap, n_overlap_pairs)\n",
    "                \n",
    "                t <- t + 1\n",
    "            # }\n",
    "        }\n",
    "        sum_list[[nc]] <- data.frame(pval = -pval_vec, fc = fc_vec, power1 = power_d1, power2 = power_d2, repro_counts = overlap_counts,\n",
    "                                    fe_pval = fe_pval_vec, fe_or = fe_fc_vec, fe_conf_l = fe_conf_l_vec, fe_conf_u = fe_conf_u_vec,\n",
    "                                    sig_counts_1 = sig_counts_1, sig_counts_2 = sig_counts_2, n_overlap = n_overlap)\n",
    "    }\n",
    "    sum_df_GBM <- do.call(rbind, sum_list)\n",
    "    sum_df_GBM$qu_cutoff <- rep(qu_cutoffs, each = 2)\n",
    "    #sum_df$method <- factor(sum_df$method, levels = methods, labels = methods)\n",
    "    sum_df_GBM$replicate <- rep(c('technical', 'biological'), 3)\n",
    "    #rep_sum_list[[ifelse(all(dpair == 1:2), 'technical', 'biological')]] <- sum_df\n",
    "#}"
   ]
  },
  {
   "cell_type": "code",
   "execution_count": 8,
   "id": "4eeb7496-e316-4a9d-9703-6ee1096cac8e",
   "metadata": {},
   "outputs": [
    {
     "data": {
      "image/png": "[encoded data removed]",
      "text/plain": [
       "plot without title"
      ]
     },
     "metadata": {
      "image/png": {
       "height": 240,
       "width": 360
      }
     },
     "output_type": "display_data"
    },
    {
     "data": {
      "image/png": "[encoded data removed]",
      "text/plain": [
       "plot without title"
      ]
     },
     "metadata": {
      "image/png": {
       "height": 240,
       "width": 360
      }
     },
     "output_type": "display_data"
    }
   ],
   "source": [
    "fig_letter <- c('b', 'a')\n",
    "names(fig_letter) <- c('technical', 'biological')\n",
    "for(replicate in c('technical', 'biological')){\n",
    "    g_list <- list()\n",
    "\n",
    "proposed_df <- long_ct_sum_df[long_ct_sum_df$replicate == replicate &\n",
    "                              long_ct_sum_df$method == 'scMultiMap', c('fe_or', 'pval','p_cutoff', 'method', 'counts1')]\n",
    "g_list[[2]] <- ggplot(proposed_df, \n",
    "                      aes( x = factor(p_cutoff), y = fe_or)) +\n",
    "geom_bar(stat = 'identity', width = 0.8) +\n",
    "geom_text(aes(label = counts1), nudge_y = 1.5) +\n",
    "ylim(c(0, max(proposed_df$fe_or)+1.5)) +\n",
    "labs(x = 'Adjusted p cutoff', y = 'Enrichment', title = 'scMultiMap') + \n",
    "theme_classic(base_size = 18) \n",
    "\n",
    "tmp <- sum_df_GBM[sum_df_GBM$replicate == replicate, c('fe_or', 'pval','qu_cutoff', 'repro_counts')]\n",
    "\n",
    "g_list[[1]] <- ggplot(tmp, \n",
    "                      aes(x = factor(qu_cutoff, levels = c(0.95,0.9,0.85), labels = c(0.95,0.9,0.85)), y = fe_or)) +\n",
    "geom_bar(stat = 'identity', width = 0.8) +\n",
    "         geom_text(aes(label = repro_counts), nudge_y = 1.5) +\n",
    "ylim(c(0, max(proposed_df$fe_or)+1.5)) +\n",
    "labs(x = 'Quantile cutoff', y = 'Enrichment', title = 'SCENIC+') + \n",
    "theme_classic(base_size = 18) \n",
    "\n",
    "\n",
    "\n",
    "    options(repr.plot.width = 6, repr.plot.height = 4)\n",
    "    g <- grid.arrange(grobs = g_list, nrow = 1, top = \n",
    "             textGrob(sprintf('%s. %s replicate', fig_letter[replicate],\n",
    "                              paste(toupper(substr(replicate, 1, 1)), \n",
    "                                    substr(replicate, 2, nchar(replicate)), sep=\"\")), \n",
    "                      gp=gpar(fontsize=22), x = 0, hjust = 0))\n",
    "   # ggsave(sprintf('%s/PBMC/reproducibility_GBM_%s.pdf', fig_dir, replicate), g, width = 6, height = 4)\n",
    "}"
   ]
  },
  {
   "cell_type": "code",
   "execution_count": null,
   "id": "70179777-bcb4-4b1f-9a22-dc6f0ef0a719",
   "metadata": {},
   "outputs": [],
   "source": []
  },
  {
   "cell_type": "code",
   "execution_count": null,
   "id": "11b8d034-b432-41b9-876e-67a0662cc2ce",
   "metadata": {},
   "outputs": [],
   "source": []
  }
 ],
 "metadata": {
  "kernelspec": {
   "display_name": "R",
   "language": "R",
   "name": "ir"
  },
  "language_info": {
   "codemirror_mode": "r",
   "file_extension": ".r",
   "mimetype": "text/x-r-source",
   "name": "R",
   "pygments_lexer": "r",
   "version": "4.3.2"
  }
 },
 "nbformat": 4,
 "nbformat_minor": 5
}
