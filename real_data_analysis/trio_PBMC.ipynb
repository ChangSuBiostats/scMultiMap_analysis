{
 "cells": [
  {
   "cell_type": "code",
   "execution_count": 1,
   "id": "594f339b-57f5-43d7-8b38-66f5084717b9",
   "metadata": {},
   "outputs": [],
   "source": [
    "suppressMessages(library(dplyr))\n",
    "suppressMessages(library(gprofiler2))\n",
    "suppressMessages(library(pheatmap))\n",
    "suppressMessages(library(ggplot2))\n",
    "suppressMessages(library(RColorBrewer))\n",
    "source('trio_analysis_helper.R')"
   ]
  },
  {
   "cell_type": "code",
   "execution_count": 2,
   "id": "a29fe7a2-2f82-4ec9-bfe2-da0b0d3ef49a",
   "metadata": {},
   "outputs": [],
   "source": [
    "output_dir <- '../../analysis/real_data/output'"
   ]
  },
  {
   "cell_type": "code",
   "execution_count": 24,
   "id": "b143048a-b7a2-48e4-a688-c6ce521f0088",
   "metadata": {},
   "outputs": [],
   "source": [
    "trio_pval_cutoff_vec <- c(0.001)\n",
    "names(trio_pval_cutoff_vec) <- c('CD14 Mono')"
   ]
  },
  {
   "cell_type": "code",
   "execution_count": 25,
   "id": "5cb877a9-0b3e-4f5f-9f93-6e92db00fb5d",
   "metadata": {},
   "outputs": [
    {
     "name": "stdout",
     "output_type": "stream",
     "text": [
      "[1] \"ZEB1\"\n",
      "[1] \"BACH2\"\n",
      "[1] \"LEF1\"\n",
      "[1] \"ETS1\"\n",
      "[1] \"TCF7\"\n",
      "[1] \"RORA\"\n",
      "[1] \"KLF4\"\n",
      "[1] \"SPI1\"\n",
      "[1] \"KLF2\"\n",
      "[1] \"NR3C2\"\n"
     ]
    }
   ],
   "source": [
    "trios_list <- load_trios_list(2000, 'CD14 Mono', 'PBMC_4_combined', trio_pval_cutoff_vec['CD14 Mono'], output_dir)\n",
    "res <- summarize_enr(trios_list, p_top = 10)"
   ]
  },
  {
   "cell_type": "code",
   "execution_count": 31,
   "id": "9ae499b3-50f0-45e3-972f-e981fa3f3ff3",
   "metadata": {},
   "outputs": [
    {
     "data": {
      "text/html": [
       "<style>\n",
       ".list-inline {list-style: none; margin:0; padding: 0}\n",
       ".list-inline>li {display: inline-block}\n",
       ".list-inline>li:not(:last-child)::after {content: \"\\00b7\"; padding: 0 .5ex}\n",
       "</style>\n",
       "<ol class=list-inline><li>'antigen processing and presentation of peptide or polysaccharide antigen via MHC class II'</li><li>'immune response'</li><li>'negative regulation of protein neddylation'</li><li>'sequestering of metal ion'</li><li>'astrocyte development'</li><li>'regulation of phagocytosis'</li><li>'response to diacyl bacterial lipopeptide'</li><li>'T cell activation'</li><li>'integrated stress response signaling'</li><li>'maturation of SSU-rRNA'</li><li>'peptidyl-tyrosine dephosphorylation'</li><li>'positive regulation of myelination'</li><li>'organelle assembly'</li><li>'dendritic cell antigen processing and presentation'</li><li>'positive regulation of protein metabolic process'</li><li>'antigen processing and presentation of exogenous peptide antigen via MHC class II'</li><li>'regulation of cell-cell adhesion involved in gastrulation'</li><li>'immune response-regulating signaling pathway'</li></ol>\n"
      ],
      "text/latex": [
       "\\begin{enumerate*}\n",
       "\\item 'antigen processing and presentation of peptide or polysaccharide antigen via MHC class II'\n",
       "\\item 'immune response'\n",
       "\\item 'negative regulation of protein neddylation'\n",
       "\\item 'sequestering of metal ion'\n",
       "\\item 'astrocyte development'\n",
       "\\item 'regulation of phagocytosis'\n",
       "\\item 'response to diacyl bacterial lipopeptide'\n",
       "\\item 'T cell activation'\n",
       "\\item 'integrated stress response signaling'\n",
       "\\item 'maturation of SSU-rRNA'\n",
       "\\item 'peptidyl-tyrosine dephosphorylation'\n",
       "\\item 'positive regulation of myelination'\n",
       "\\item 'organelle assembly'\n",
       "\\item 'dendritic cell antigen processing and presentation'\n",
       "\\item 'positive regulation of protein metabolic process'\n",
       "\\item 'antigen processing and presentation of exogenous peptide antigen via MHC class II'\n",
       "\\item 'regulation of cell-cell adhesion involved in gastrulation'\n",
       "\\item 'immune response-regulating signaling pathway'\n",
       "\\end{enumerate*}\n"
      ],
      "text/markdown": [
       "1. 'antigen processing and presentation of peptide or polysaccharide antigen via MHC class II'\n",
       "2. 'immune response'\n",
       "3. 'negative regulation of protein neddylation'\n",
       "4. 'sequestering of metal ion'\n",
       "5. 'astrocyte development'\n",
       "6. 'regulation of phagocytosis'\n",
       "7. 'response to diacyl bacterial lipopeptide'\n",
       "8. 'T cell activation'\n",
       "9. 'integrated stress response signaling'\n",
       "10. 'maturation of SSU-rRNA'\n",
       "11. 'peptidyl-tyrosine dephosphorylation'\n",
       "12. 'positive regulation of myelination'\n",
       "13. 'organelle assembly'\n",
       "14. 'dendritic cell antigen processing and presentation'\n",
       "15. 'positive regulation of protein metabolic process'\n",
       "16. 'antigen processing and presentation of exogenous peptide antigen via MHC class II'\n",
       "17. 'regulation of cell-cell adhesion involved in gastrulation'\n",
       "18. 'immune response-regulating signaling pathway'\n",
       "\n",
       "\n"
      ],
      "text/plain": [
       " [1] \"antigen processing and presentation of peptide or polysaccharide antigen via MHC class II\"\n",
       " [2] \"immune response\"                                                                          \n",
       " [3] \"negative regulation of protein neddylation\"                                               \n",
       " [4] \"sequestering of metal ion\"                                                                \n",
       " [5] \"astrocyte development\"                                                                    \n",
       " [6] \"regulation of phagocytosis\"                                                               \n",
       " [7] \"response to diacyl bacterial lipopeptide\"                                                 \n",
       " [8] \"T cell activation\"                                                                        \n",
       " [9] \"integrated stress response signaling\"                                                     \n",
       "[10] \"maturation of SSU-rRNA\"                                                                   \n",
       "[11] \"peptidyl-tyrosine dephosphorylation\"                                                      \n",
       "[12] \"positive regulation of myelination\"                                                       \n",
       "[13] \"organelle assembly\"                                                                       \n",
       "[14] \"dendritic cell antigen processing and presentation\"                                       \n",
       "[15] \"positive regulation of protein metabolic process\"                                         \n",
       "[16] \"antigen processing and presentation of exogenous peptide antigen via MHC class II\"        \n",
       "[17] \"regulation of cell-cell adhesion involved in gastrulation\"                                \n",
       "[18] \"immune response-regulating signaling pathway\"                                             "
      ]
     },
     "metadata": {},
     "output_type": "display_data"
    }
   ],
   "source": [
    "enrich_matrix <- make_pheatmap(res)\n",
    "# immune-related terms\n",
    "selected_terms <- c(2,5,11,16,18,\n",
    "               22,24,27,30,33,35,39,48,54,55,64,65,72)\n",
    "rownames(enrich_matrix[selected_terms,])\n",
    "sum_enr <- enrich_matrix[selected_terms,]"
   ]
  },
  {
   "cell_type": "code",
   "execution_count": null,
   "id": "9af39424-1f18-4122-b4d7-adc4819bdd6a",
   "metadata": {},
   "outputs": [],
   "source": []
  },
  {
   "cell_type": "code",
   "execution_count": 35,
   "id": "11307eed-2edf-4b71-9a44-93e0b9c5dcdf",
   "metadata": {},
   "outputs": [],
   "source": [
    "# if we want to explore putting GO term names on the left\n",
    "# https://stackoverflow.com/questions/57729914/how-can-you-show-the-rownames-in-pheatmap-on-the-left-side-of-the-graph\n",
    "repr.plot.ratio <- 1.35\n",
    "options(repr.plot.width = 6.5 * repr.plot.ratio, repr.plot.height=3.5 * repr.plot.ratio)\n",
    "\n",
    "# max(enrich_matrix) as upper limit: too large to see other items\n",
    "int_enr_sum <- sum_enr[,!colSums(sum_enr) == 0]\n",
    "int_enr_sum <- int_enr_sum[apply(int_enr_sum,1,max) > -log10(0.05),] # filter by adjusted p value < 0.05\n",
    "rownames(int_enr_sum)[1] <- 'antigen processing and presentation of peptide \\nor polysaccharide antigen via MHC class II'\n",
    "\n",
    "# filter weak terms\n",
    "int_enr_sum <- int_enr_sum[apply(int_enr_sum,1,max) > 5,]\n",
    "# filter TFs with no relevant enrichment\n",
    "int_enr_sum <- int_enr_sum[,colSums(int_enr_sum) > 0]\n",
    "\n",
    "\n",
    "g <- pheatmap(int_enr_sum,#enrich_matrix[,colSums(enrich_matrix!=0) > 2],\n",
    "              col = c('white', brewer.pal(9, 'Reds')),\n",
    "              cluster_rows = F, cluster_cols = F,\n",
    "              annotation_names_row = F, \n",
    "              annotation_names_col = F,\n",
    "              fontsize_row = 15,          # row label font size\n",
    "              fontsize_col = 15,          # column label font size\n",
    "              angle_col = 45, # sample names at an angle\n",
    "              show_colnames = T, show_rownames = T, # displaying column and row names\n",
    "              silent=T,\n",
    "              fontsize = 15,\n",
    "              border_color  = NA, cellwidth=23) "
   ]
  },
  {
   "cell_type": "code",
   "execution_count": 7,
   "id": "229fc511-8085-4e7b-8c51-aa1cc6144bda",
   "metadata": {},
   "outputs": [],
   "source": [
    "ggsave(sprintf('../manuscript/figures/%s_2000_pval_0.001.pdf', ct), g,\n",
    "       width = 6.5 * repr.plot.ratio, height = 3.5 * repr.plot.ratio)"
   ]
  },
  {
   "cell_type": "markdown",
   "id": "8b089556-6384-4f9c-8731-6be866e80d91",
   "metadata": {},
   "source": [
    "# Supplementary analysis \n",
    "Comparison with Signac and SCENT"
   ]
  },
  {
   "cell_type": "markdown",
   "id": "d7123d19-9969-41da-898d-1f7b05f81e16",
   "metadata": {},
   "source": [
    "First, generate Signac and SCENT's results on peak-TF pairs by \n",
    "\n",
    "```{bash}\n",
    "####################################\n",
    "# 1. get candidate TF-peak pairs\n",
    "####################################\n",
    "Rscript get_trio_peak_TF_pairs.R\n",
    "\n",
    "####################################\n",
    "# 2. run Signac\n",
    "####################################\n",
    "Rscript run_Signac-checkpoint.R \\\n",
    "    --i_ct=1 \\\n",
    "    --study=PBMC_4_combined \\\n",
    "    --permu_within_batch=FALSE \\\n",
    "    --run_TF_peak=TRUE\n",
    "for i in {1..100}\n",
    "do\n",
    "    Rscript run_Signac-checkpoint.R \\\n",
    "        --i_ct=1 \\\n",
    "        --study=PBMC_4_combined \\\n",
    "        --permu_within_batch=TRUE \\\n",
    "        --i_permu=$i \\\n",
    "        --run_TF_peak=TRUE\n",
    "done\n",
    "# adjust Signac's results by permutation\n",
    "Rscript adjust_Signac.R --i_ct=1 --study=PBMC_4_combined --run_TF_peak=TRUE\n",
    "\n",
    "####################################\n",
    "# 3. run SCENT\n",
    "####################################\n",
    "for i in {1..10}\n",
    "do\n",
    "    Rscript run_SCENT.R \\\n",
    "    --ct=\"CD14 Mono\" \\\n",
    "    --study=\"PBMC_4_combined\" \\\n",
    "    --i_set=$i \\\n",
    "    --n_sets=10 \\\n",
    "    --n_bootstrap=5000 \\\n",
    "    --adjust_for_batch=TRUE \\\n",
    "--run_TF_peak=TRUE\n",
    "done\n",
    "```"
   ]
  },
  {
   "cell_type": "markdown",
   "id": "190c50b7-4d3e-4603-bd62-bee2a64468a4",
   "metadata": {},
   "source": [
    "## 2. Construct trios\n",
    "\n",
    "The codes below were modified from construct_trios.R for the analysis on scMultiMap's results."
   ]
  },
  {
   "cell_type": "code",
   "execution_count": 8,
   "id": "79f117b9-10dd-4ac3-9f7c-182f98d3a54c",
   "metadata": {},
   "outputs": [],
   "source": [
    "suppressMessages(library(dplyr))\n",
    "suppressMessages(library(Seurat))\n",
    "suppressMessages(library(Signac))\n",
    "suppressMessages(library(JASPAR2020))\n",
    "source('reproducibility_helper.R')\n",
    "\n",
    "study <- 'PBMC_4_combined'\n",
    "ct <- 'CD14 Mono'\n",
    "pairs_suffix <- ''\n",
    "pair_sigp_cutoff <- 0.001"
   ]
  },
  {
   "cell_type": "code",
   "execution_count": 9,
   "id": "e94aedbd-0a81-440d-938f-690bf8ff22f6",
   "metadata": {},
   "outputs": [],
   "source": [
    "preprocess_output_dir <- '../../analysis/preprocessing/output'\n",
    "fig_dir <- '../../analysis/manuscript/figures'"
   ]
  },
  {
   "cell_type": "code",
   "execution_count": 10,
   "id": "8e692bb3-4751-4a8f-9f13-1cdf6224faea",
   "metadata": {},
   "outputs": [
    {
     "name": "stdout",
     "output_type": "stream",
     "text": [
      "[1] 6472\n"
     ]
    },
    {
     "name": "stderr",
     "output_type": "stream",
     "text": [
      "Selecting background regions to match input sequence characteristics\n",
      "\n",
      "Matching GC.percent distribution\n",
      "\n",
      "Testing motif enrichment in 6472 regions\n",
      "\n"
     ]
    },
    {
     "data": {
      "text/html": [
       "1688"
      ],
      "text/latex": [
       "1688"
      ],
      "text/markdown": [
       "1688"
      ],
      "text/plain": [
       "[1] 1688"
      ]
     },
     "metadata": {},
     "output_type": "display_data"
    },
    {
     "data": {
      "text/html": [
       "298"
      ],
      "text/latex": [
       "298"
      ],
      "text/markdown": [
       "298"
      ],
      "text/plain": [
       "[1] 298"
      ]
     },
     "metadata": {},
     "output_type": "display_data"
    }
   ],
   "source": [
    "#############\n",
    "# load TF data\n",
    "#############\n",
    "# load seurat object\n",
    "pre_dir <- sprintf('%s/%s/%s', preprocess_output_dir, study, ct)\n",
    "obj_suffix <- ''\n",
    "# load data - generated by preprocessing/save_seurat_obj_by_ct.R\n",
    "ct_obj <- readRDS(sprintf('%s_seurat_obj%s.rds', pre_dir, obj_suffix))\n",
    "\n",
    "# load motif info\n",
    "if(grepl('PBMC', study)){\n",
    "    DefaultAssay(ct_obj) <- 'peaks_ct'\n",
    "    motif.object <- readRDS(sprintf('%s/%s/motif.object.rds', preprocess_output_dir, study))\n",
    "}else if(grepl('brain', study)){\n",
    "    motif.object <- readRDS('%s/%s/motif.object.rds', preprocess_output_dir, stud)\n",
    "}\n",
    "Motifs(ct_obj) <- motif.object\n",
    "# extract all TF names from JASPAR 2020 database\n",
    "full_TF_names <- ConvertMotifID(ct_obj, id = colnames(motif.object@data))\n",
    "\n",
    "#############\n",
    "# load peak-gene pair results\n",
    "#############\n",
    "res_list <- list()\n",
    "res_list[['Signac']] <- load_Signac(ct, datasets = 'PBMC_4_combined',\n",
    "                                    fn_suffix = '_permu_adjusted',\n",
    "                                   output_dir = output_dir)[[1]]\n",
    "res_list[['SCENT']] <- load_SCENT(ct, n_sets=10,\n",
    "                                  datasets = 'PBMC_4_combined',\n",
    "                                 '_batch_as_covar_adjusted_n_bootstrap_5000',\n",
    "                                 output_dir = output_dir)[[1]]\n",
    "res_list[['proposed']] <- load_proposed(ct, study, sprintf('%s_batch_adjusted', pairs_suffix),\n",
    "                                       output_dir = output_dir)[[1]]\n",
    "\n",
    "\n",
    "#############\n",
    "# load target gene-TF results\n",
    "#############\n",
    "# use co-expression results from CS-CORE\n",
    "TF_coexp_list <- readRDS(sprintf('%s_TF_gene_coexp%s.rds', sprintf('%s/%s/%s', output_dir, study, ct),\n",
    "                       sprintf('%s_batch_adjusted', pairs_suffix)))\n",
    "TF_target_p <- TF_coexp_list$pval\n",
    "\n",
    "#############\n",
    "# extract enriched TFs\n",
    "#############\n",
    "p_var <- 'pval'\n",
    "p_cutoff <- 0.05\n",
    "sig_inds_list <- which(res_list[['proposed']][[p_var]] < p_cutoff)\n",
    "print(length(sig_inds_list))\n",
    "\n",
    "linked_peaks <- res_list[['proposed']]$peak[sig_inds_list]\n",
    "sparsity <- TF_coexp_list[[3]]\n",
    "TF_enrich_list <- TF_motif_enrich(linked_peaks, sparsity, ct_obj)\n",
    "\n",
    "#############\n",
    "# load TF-peak results for Signac and SCENT\n",
    "#############\n",
    "TF_peak_df_list <- list()\n",
    "# Signac\n",
    "TF_peak_df_list[['Signac']] <- load_Signac(ct, datasets = 'PBMC_4_combined',\n",
    "                                           fn_suffix = '_permu_adjusted_TF_peak',\n",
    "                                          output_dir = output_dir)[[1]]\n",
    "# SCENT\n",
    "TF_peak_df_list[['SCENT']] <- load_SCENT(ct, n_sets=10,\n",
    "                                      datasets = 'PBMC_4_combined',\n",
    "                                      '_batch_as_covar_adjusted_n_bootstrap_5000_TF_peak',\n",
    "                                        output_dir = output_dir)[[1]]\n",
    "\n",
    "sum(TF_peak_df_list[['SCENT']]$pval < pair_sigp_cutoff)\n",
    "sum(TF_peak_df_list[['Signac']]$pval < pair_sigp_cutoff, na.rm=T) # lower power\n",
    "\n",
    "# split results by TFs\n",
    "TF_peak_list <- list()\n",
    "for(method in names(TF_peak_df_list)){\n",
    "    tmp <- list()\n",
    "    for(TF in unique(TF_peak_df_list[[method]]$gene)){\n",
    "        tmp[[TF]] <- TF_peak_df_list[[method]][TF_peak_df_list[[method]]$gene == TF,]\n",
    "        rownames(tmp[[TF]]) <- tmp[[TF]]$peak\n",
    "    }\n",
    "    TF_peak_list[[method]] <- tmp\n",
    "}"
   ]
  },
  {
   "cell_type": "code",
   "execution_count": 11,
   "id": "ba2f2616-720b-4c2c-a670-cac8c0b4b6ba",
   "metadata": {},
   "outputs": [],
   "source": [
    "# load all TFs and TF-peak pairs, pre-evaluated in run_proposed.R\n",
    "TF_peak <- readRDS(sprintf('%s/%s/%s_TF_peak_coexp%s.rds', output_dir, study, ct, sprintf('%s_batch_adjusted', pairs_suffix)))\n",
    "pair_sigp_cutoff <- 0.001\n",
    "\n",
    "# The following codes are also used get_trio_peak_TF_pairs-checkpoint.R for \n",
    "# pre-filtering peak-TF pairs with significant peak-gene and gene-TF links\n",
    "TF_peak_sub_list <- list()\n",
    "TF_trios_df_list <- list()\n",
    "for(method in c('Signac', 'SCENT')){\n",
    "    trios_df_list <- list()\n",
    "    for(TF in names(TF_peak)){\n",
    "        results <- res_list[[method]]\n",
    "        peaks_w_binding_motifs <- names(which(motif.object@data[,full_TF_names == TF] != 0))\n",
    "        results_peaks_w_motif_inds <- results$peak %in% peaks_w_binding_motifs\n",
    "        # from peak to gene\n",
    "        peak_gene_pval <- results$pval[results_peaks_w_motif_inds]\n",
    "        # from gene to TF\n",
    "        gene_TF_pval <- TF_target_p[TF, results$gene][results_peaks_w_motif_inds]\n",
    "        trio_inds <- which((peak_gene_pval < pair_sigp_cutoff) & (gene_TF_pval < pair_sigp_cutoff))\n",
    "        if(length(trio_inds) > 0 & !is.null(TF_peak_list[[method]][[TF]])){\n",
    "            peak_TF_pval <- TF_peak_list[[method]][[TF]]$pval[match(results$peak[results_peaks_w_motif_inds][trio_inds],\n",
    "                                                             TF_peak_list[[method]][[TF]]$peak)]\n",
    "        \n",
    "            tmp <- results[results_peaks_w_motif_inds, c('peak','gene','pval')][trio_inds,]\n",
    "            colnames(tmp)[colnames(tmp) == 'pval'] <- 'pval_peak_gene'\n",
    "            tmp$pval_TF_gene <- gene_TF_pval[trio_inds]\n",
    "            tmp$pval_peak_TF <- peak_TF_pval\n",
    "            tmp$TF <- TF\n",
    "            tmp <- tmp[which(tmp$pval_peak_TF < pair_sigp_cutoff), ] # ifelse(method == 'SCENT', pair_sigp_cutoff*5, pair_sigp_cutoff))\n",
    "            trios_df_list[[TF]] <- tmp\n",
    "        }\n",
    "    }\n",
    "    TF_trios_df_list[[method]] <- do.call(rbind, trios_df_list)\n",
    "}"
   ]
  },
  {
   "cell_type": "code",
   "execution_count": null,
   "id": "4779d3b1-ecd5-4389-8a45-398525c33144",
   "metadata": {},
   "outputs": [],
   "source": [
    " \n"
   ]
  },
  {
   "cell_type": "markdown",
   "id": "367cf081-73ff-412b-b6e8-fcc9dcb60886",
   "metadata": {},
   "source": [
    "## 3. Evaluate GO enrichment"
   ]
  },
  {
   "cell_type": "code",
   "execution_count": 12,
   "id": "ea81b5ef-310d-4c07-b7f9-d871cf7d70f0",
   "metadata": {},
   "outputs": [],
   "source": [
    "selected_terms_list <- list()"
   ]
  },
  {
   "cell_type": "code",
   "execution_count": 13,
   "id": "3ed611f8-29af-4f54-a679-6cf7ed2b982d",
   "metadata": {},
   "outputs": [
    {
     "name": "stdout",
     "output_type": "stream",
     "text": [
      "[1] \"KLF4\"\n",
      "[1] \"KLF2\"\n",
      "[1] \"KLF6\"\n",
      "[1] \"RUNX3\"\n",
      "[1] \"JUN\"\n",
      "[1] \"TCF7L2\"\n",
      "[1] \"ATF3\"\n",
      "[1] \"SPI1\"\n",
      "[1] \"KLF10\"\n",
      "[1] \"FOSL1\"\n"
     ]
    },
    {
     "data": {
      "text/html": [
       "<style>\n",
       ".list-inline {list-style: none; margin:0; padding: 0}\n",
       ".list-inline>li {display: inline-block}\n",
       ".list-inline>li:not(:last-child)::after {content: \"\\00b7\"; padding: 0 .5ex}\n",
       "</style>\n",
       "<ol class=list-inline><li>82</li><li>16</li></ol>\n"
      ],
      "text/latex": [
       "\\begin{enumerate*}\n",
       "\\item 82\n",
       "\\item 16\n",
       "\\end{enumerate*}\n"
      ],
      "text/markdown": [
       "1. 82\n",
       "2. 16\n",
       "\n",
       "\n"
      ],
      "text/plain": [
       "[1] 82 16"
      ]
     },
     "metadata": {},
     "output_type": "display_data"
    }
   ],
   "source": [
    "enr_list <- list()\n",
    "enr_list[['Signac']] <- summarize_enr(TF_trios_df_list[['Signac']], p_top = 10)\n",
    "dim(enr_list[['Signac']])\n",
    "selected_terms_list[['Signac']] <- c(3,17,19,23,26,27,29,34,45,46,53,64,65,68,71)"
   ]
  },
  {
   "cell_type": "code",
   "execution_count": null,
   "id": "7c3ca286-1128-4a32-89c8-de12c845ee41",
   "metadata": {},
   "outputs": [],
   "source": []
  },
  {
   "cell_type": "code",
   "execution_count": 14,
   "id": "9a58dc17-258c-4caf-931c-c2a8e1ee9766",
   "metadata": {},
   "outputs": [
    {
     "name": "stdout",
     "output_type": "stream",
     "text": [
      "[1] \"KLF2\"\n",
      "[1] \"ZEB1\"\n",
      "[1] \"ETS1\"\n",
      "[1] \"SPI1\"\n",
      "[1] \"JUN\"\n",
      "[1] \"TCF7\"\n",
      "[1] \"LEF1\"\n",
      "[1] \"NFATC2\"\n",
      "[1] \"FOXP1\"\n",
      "[1] \"RORA\"\n"
     ]
    },
    {
     "data": {
      "text/html": [
       "<style>\n",
       ".list-inline {list-style: none; margin:0; padding: 0}\n",
       ".list-inline>li {display: inline-block}\n",
       ".list-inline>li:not(:last-child)::after {content: \"\\00b7\"; padding: 0 .5ex}\n",
       "</style>\n",
       "<ol class=list-inline><li>100</li><li>16</li></ol>\n"
      ],
      "text/latex": [
       "\\begin{enumerate*}\n",
       "\\item 100\n",
       "\\item 16\n",
       "\\end{enumerate*}\n"
      ],
      "text/markdown": [
       "1. 100\n",
       "2. 16\n",
       "\n",
       "\n"
      ],
      "text/plain": [
       "[1] 100  16"
      ]
     },
     "metadata": {},
     "output_type": "display_data"
    }
   ],
   "source": [
    "enr_list[['SCENT']] <- summarize_enr(TF_trios_df_list[['SCENT']], p_top = 10)\n",
    "dim(enr_list[['SCENT']])\n",
    "selected_terms_list[['SCENT']] <- c(1,11,19,20,27,28,36,43,45,51,52,62,63,75)\n",
    "#c(1,11,19,44,51,52,58,68,69,75,76)"
   ]
  },
  {
   "cell_type": "code",
   "execution_count": 15,
   "id": "49ecc4e3-89f5-4849-84f1-e6008f5487f1",
   "metadata": {},
   "outputs": [],
   "source": [
    "enr_list[['proposed']] <- res\n",
    "selected_terms_list[['proposed']] <- selected_terms"
   ]
  },
  {
   "cell_type": "code",
   "execution_count": 16,
   "id": "b8807ef3-9728-4fe8-8382-0ec23f7b97c4",
   "metadata": {},
   "outputs": [
    {
     "data": {
      "text/html": [
       "<table class=\"dataframe\">\n",
       "<caption>A matrix: 2 × 3 of type int</caption>\n",
       "<thead>\n",
       "\t<tr><th scope=col>Signac</th><th scope=col>SCENT</th><th scope=col>proposed</th></tr>\n",
       "</thead>\n",
       "<tbody>\n",
       "\t<tr><td>71</td><td>80</td><td>77</td></tr>\n",
       "\t<tr><td> 9</td><td>10</td><td>10</td></tr>\n",
       "</tbody>\n",
       "</table>\n"
      ],
      "text/latex": [
       "A matrix: 2 × 3 of type int\n",
       "\\begin{tabular}{lll}\n",
       " Signac & SCENT & proposed\\\\\n",
       "\\hline\n",
       "\t 71 & 80 & 77\\\\\n",
       "\t  9 & 10 & 10\\\\\n",
       "\\end{tabular}\n"
      ],
      "text/markdown": [
       "\n",
       "A matrix: 2 × 3 of type int\n",
       "\n",
       "| Signac | SCENT | proposed |\n",
       "|---|---|---|\n",
       "| 71 | 80 | 77 |\n",
       "|  9 | 10 | 10 |\n",
       "\n"
      ],
      "text/plain": [
       "     Signac SCENT proposed\n",
       "[1,] 71     80    77      \n",
       "[2,]  9     10    10      "
      ]
     },
     "metadata": {},
     "output_type": "display_data"
    }
   ],
   "source": [
    "enrich_matrix_list <- list()\n",
    "for(method in names(enr_list)){\n",
    "    enrich_matrix_list[[method]] <- make_pheatmap(enr_list[[method]])\n",
    "}\n",
    "sapply(enrich_matrix_list, dim)"
   ]
  },
  {
   "cell_type": "code",
   "execution_count": 17,
   "id": "15e44132-8541-4f6a-9b48-8dcaddd83b93",
   "metadata": {},
   "outputs": [],
   "source": [
    "method <- 'SCENT'\n",
    "enrich_matrix_list[[method]] <- make_pheatmap(enr_list[[method]])"
   ]
  },
  {
   "cell_type": "markdown",
   "id": "19860f01-4369-4cea-aba9-69739cf3284e",
   "metadata": {},
   "source": [
    "## 4. Compare the results"
   ]
  },
  {
   "cell_type": "code",
   "execution_count": 18,
   "id": "24dca70b-41e6-449d-a17f-4cda567c97b5",
   "metadata": {},
   "outputs": [
    {
     "name": "stdout",
     "output_type": "stream",
     "text": [
      "[1] 1\n",
      "[1] 6\n"
     ]
    }
   ],
   "source": [
    "# share similar terms\n",
    "for(method in c('Signac', 'SCENT')){\n",
    "    print(sum(rownames(enrich_matrix_list[['proposed']])[selected_terms_list[['proposed']]] %in% \n",
    "              rownames(enrich_matrix_list[[method]])[selected_terms_list[[method]]]))\n",
    "}"
   ]
  },
  {
   "cell_type": "code",
   "execution_count": 19,
   "id": "f9c77c4f-4270-4b67-a9d6-f09a97be6b59",
   "metadata": {},
   "outputs": [
    {
     "data": {
      "text/html": [
       "<style>\n",
       ".list-inline {list-style: none; margin:0; padding: 0}\n",
       ".list-inline>li {display: inline-block}\n",
       ".list-inline>li:not(:last-child)::after {content: \"\\00b7\"; padding: 0 .5ex}\n",
       "</style>\n",
       "<ol class=list-inline><li>'Signac'</li><li>'SCENT'</li><li>'proposed'</li></ol>\n"
      ],
      "text/latex": [
       "\\begin{enumerate*}\n",
       "\\item 'Signac'\n",
       "\\item 'SCENT'\n",
       "\\item 'proposed'\n",
       "\\end{enumerate*}\n"
      ],
      "text/markdown": [
       "1. 'Signac'\n",
       "2. 'SCENT'\n",
       "3. 'proposed'\n",
       "\n",
       "\n"
      ],
      "text/plain": [
       "[1] \"Signac\"   \"SCENT\"    \"proposed\""
      ]
     },
     "metadata": {},
     "output_type": "display_data"
    },
    {
     "data": {
      "text/html": [
       "<strong>png:</strong> 2"
      ],
      "text/latex": [
       "\\textbf{png:} 2"
      ],
      "text/markdown": [
       "**png:** 2"
      ],
      "text/plain": [
       "png \n",
       "  2 "
      ]
     },
     "metadata": {},
     "output_type": "display_data"
    }
   ],
   "source": [
    "# compare magnitude of enrichment\n",
    "nonzero_enr <- lapply(enrich_matrix_list, function(m) m[m!=0])\n",
    "\n",
    "names(nonzero_enr)\n",
    "names(nonzero_enr) <- c('Signac', 'SCENT', 'scMultiMap')\n",
    "\n",
    "options(repr.plot.width = 8, repr.plot.height=6)\n",
    "\n",
    "pdf(sprintf('%s/trio/enr_comp.pdf', fig_dir), width = 8, height = 6)\n",
    "                      par(cex = 1.5)\n",
    "boxplot(nonzero_enr, main = '-log10 p-value of enriched GO terms')  \n",
    "                    \n",
    "dev.off()"
   ]
  },
  {
   "cell_type": "code",
   "execution_count": null,
   "id": "b6cf69f8-b3d8-4409-a532-b7e22fb86202",
   "metadata": {},
   "outputs": [],
   "source": []
  },
  {
   "cell_type": "code",
   "execution_count": 20,
   "id": "22a61126-ae4e-40d7-89c9-4b5351f70cd8",
   "metadata": {},
   "outputs": [
    {
     "data": {
      "image/png": "[encoded data removed]",
      "text/plain": [
       "plot without title"
      ]
     },
     "metadata": {
      "image/png": {
       "height": 364.5,
       "width": 567
      }
     },
     "output_type": "display_data"
    },
    {
     "data": {
      "image/png": "[encoded data removed]",
      "text/plain": [
       "plot without title"
      ]
     },
     "metadata": {
      "image/png": {
       "height": 364.5,
       "width": 567
      }
     },
     "output_type": "display_data"
    }
   ],
   "source": [
    "repr.plot.ratio <- 1.35\n",
    "options(repr.plot.width = 7 * repr.plot.ratio, repr.plot.height=4.5 * repr.plot.ratio)\n",
    "\n",
    "for(method in c('Signac', 'SCENT')){\n",
    "    int_enr_sum <- enrich_matrix_list[[method]][selected_terms_list[[method]],, drop=F]\n",
    "    for(long_term in c('antigen processing and presentation of peptide antigen via MHC class II',\n",
    "                       'antigen processing and presentation of peptide or polysaccharide antigen via MHC class II',\n",
    "                      'antigen processing and presentation of exogenous peptide antigen via MHC class II')){\n",
    "        long_term_ind <- rownames(int_enr_sum) == long_term\n",
    "        if(any(long_term_ind)){\n",
    "            rownames(int_enr_sum)[long_term_ind] <- sprintf( 'antigen processing and presentation of\\n%s',\n",
    "                                                           gsub('antigen processing and presentation of', '', long_term))\n",
    "        }\n",
    "    }\n",
    "    # filter weak terms\n",
    "    int_enr_sum <- int_enr_sum[apply(int_enr_sum,1,max) > 5,]\n",
    "    # filter TFs with no relevant enrichment\n",
    "    int_enr_sum <- int_enr_sum[,colSums(int_enr_sum) > 0]\n",
    "    g <- pheatmap(int_enr_sum,\n",
    "            col = c('white', brewer.pal(9, 'Reds')),\n",
    "            cluster_rows = F, cluster_cols = F,\n",
    "                      annotation_names_row = F, \n",
    "                      annotation_names_col = F,\n",
    "                      fontsize_row = 15,          # row label font size\n",
    "                      fontsize_col = 15,          # column label font size \n",
    "                      angle_col = 45, # sample names at an angle\n",
    "                      #legend_breaks = seq(0, 5, 5/8),# legend customisation\n",
    "                      #legend_labels = c(\"Low\", \"Medium\", \"High\"), # legend customisation\n",
    "                      show_colnames = T, show_rownames = T, # displaying column and row names\n",
    "                      #main = ct,\n",
    "         #annotation_row    = term_ct_label,\n",
    "         fontsize = 15,\n",
    "        border_color  = NA, cellwidth=23) \n",
    "g\n",
    "    ggsave(sprintf('%s/trio/%s_2000_pval_0.05_%s.pdf', fig_dir, ct, method), g, \n",
    "           width = 7 * repr.plot.ratio, height = 4 * repr.plot.ratio)\n",
    "}"
   ]
  }
 ],
 "metadata": {
  "kernelspec": {
   "display_name": "R",
   "language": "R",
   "name": "ir"
  },
  "language_info": {
   "codemirror_mode": "r",
   "file_extension": ".r",
   "mimetype": "text/x-r-source",
   "name": "R",
   "pygments_lexer": "r",
   "version": "4.3.2"
  }
 },
 "nbformat": 4,
 "nbformat_minor": 5
}
